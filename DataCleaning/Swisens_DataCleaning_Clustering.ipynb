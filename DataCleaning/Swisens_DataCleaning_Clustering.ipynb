{
 "cells": [
  {
   "cell_type": "markdown",
   "metadata": {},
   "source": [
    "<img src=\"swisens_logo.jpg\" width=\"240\" height=\"240\" align=\"left\"/>\n",
    "<div style=\"text-align: right\"> Swisens Poleno - Data Cleaning<br> November 2019 <br> <a href=\"mailto:yanick.zeder@swisens.ch\"> Feedback </a> <br> Autor: GrE </div>"
   ]
  },
  {
   "cell_type": "markdown",
   "metadata": {},
   "source": [
    "# Clean Dataset"
   ]
  },
  {
   "cell_type": "code",
   "execution_count": null,
   "metadata": {},
   "outputs": [],
   "source": [
    "from Swisens_DataCleaning import cleanDataset\n",
    "from Swisens_DataHandling import chooseDirs\n",
    "import Swisens_DataCleaning\n",
    "Swisens_DataCleaning.__version__"
   ]
  },
  {
   "cell_type": "markdown",
   "metadata": {},
   "source": [
    "# Start here\n",
    "Choose a source path witch contains one or more zip files with the measurements. Then choose a folder where the cleaned data should be copied to. For each zip file in the input folder, a result foled will be generated in the destination folder.\n",
    "<br><br>\n",
    "After running this cell (by pressing ctrl-enter while cursor in the cell), some intermediate results will be shown below the cell. Additional plots are then available in the destination folder.\n",
    "<br><br>\n",
    "Note: The filter parameters are located in the **Swisens_CleaningConfig.py**. After the first run, you could use the generated plots to fine adjust the settings (if nescessary).<br>\n",
    "Note2: For fast testing, change the 'n' value in the cell below to the number of measurements you want to clean. Set it to 'all' to clean the full folder."
   ]
  },
  {
   "cell_type": "code",
   "execution_count": null,
   "metadata": {
    "scrolled": false
   },
   "outputs": [],
   "source": [
    "# Source path with raw zipped class folders\n",
    "# if 'id' in the folder name, the following characters until '_' will be added to\n",
    "# as suffix to the 'clean' and 'invalid' folders\n",
    "\n",
    "src_path= r\"E:\\191113_data_calibration_FMI\\calibration_Poleno_201911\"\n",
    "dst_dir = r\"E:\\191113_data_calibration_FMI\\calibration_Poleno_201911\\clean\"\n",
    "chooseDirs(cleanDataset,{'src_dir':[],'dst_dir':dst_dir,'n':'all'}, src_path)"
   ]
  },
  {
   "cell_type": "markdown",
   "metadata": {},
   "source": [
    "# Clustering\n",
    "Use this for additional cleaning using neural network clustering. With the default settings it will generate two clusters and copy the corresponding events into the \"sorted\" folder. After running the cell you will find a folder named \"0\" and a folder named \"1\". Additionally, some clustering graphs are saved. "
   ]
  },
  {
   "cell_type": "code",
   "execution_count": null,
   "metadata": {},
   "outputs": [],
   "source": [
    "from ClusterSorting import run"
   ]
  },
  {
   "cell_type": "code",
   "execution_count": null,
   "metadata": {},
   "outputs": [],
   "source": [
    "# Source path with cleaned class folders\n",
    "# (with add_id=True, the samples will automatically be loaded from the '\\clean_id' folder in each class folder)\n",
    "\n",
    "src_path = dst_dir\n",
    "dst_dir_cluster =  src_path + os.sep + \"sorted\"\n",
    "chooseDirs(run,{'src_dir':[],'dest_directory':dst_dir_cluster, \"specified_folders\": [\"clean\"]}, src_path, ending='',add_id=False)"
   ]
  }
 ],
 "metadata": {
  "kernelspec": {
   "display_name": "Python 3",
   "language": "python",
   "name": "python3"
  },
  "language_info": {
   "codemirror_mode": {
    "name": "ipython",
    "version": 3
   },
   "file_extension": ".py",
   "mimetype": "text/x-python",
   "name": "python",
   "nbconvert_exporter": "python",
   "pygments_lexer": "ipython3",
   "version": "3.6.6"
  }
 },
 "nbformat": 4,
 "nbformat_minor": 2
}
